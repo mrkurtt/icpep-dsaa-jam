{
 "cells": [
  {
   "cell_type": "code",
   "execution_count": null,
   "metadata": {},
   "outputs": [],
   "source": [
    "from collections import deque\n",
    "\n",
    "class MyQueue:\n",
    "    def __init__(self):\n",
    "        self.queue = deque()\n",
    "    \n",
    "    def enqueue(self, val):\n",
    "        self.queue.appendleft(val)\n",
    "        \n",
    "    def dequeue(self):\n",
    "        return self.queue.pop()\n",
    "    \n",
    "    def front(self):\n",
    "        if self.is_empty():\n",
    "            print(\"Queue is empty. No front element.\")\n",
    "            return None\n",
    "        return self.queue[-1]\n",
    "\n",
    "    def rear(self):\n",
    "        if self.is_empty():\n",
    "            print(\"Queue is empty. No rear element.\")\n",
    "            return None\n",
    "        return self.queue[0]\n",
    "    \n",
    "    def is_empty(self):\n",
    "        return len(self.queue)==0\n",
    "    \n",
    "    def size(self):\n",
    "        return len(self.queue)\n",
    "    \n",
    "    def get(self):\n",
    "        for item in self.queue:\n",
    "            print(item)"
   ]
  },
  {
   "cell_type": "code",
   "execution_count": 57,
   "metadata": {},
   "outputs": [
    {
     "name": "stdout",
     "output_type": "stream",
     "text": [
      "{'priorityNumber': 10, 'name': 'Koikoi'}\n"
     ]
    }
   ],
   "source": [
    "q = MyQueue()\n",
    "\n",
    "q.enqueue({\n",
    "    'priorityNumber': 10,\n",
    "    'name':'Koikoi'\n",
    "})\n",
    "\n",
    "q.get()"
   ]
  },
  {
   "cell_type": "code",
   "execution_count": 58,
   "metadata": {},
   "outputs": [
    {
     "name": "stdout",
     "output_type": "stream",
     "text": [
      "{'priorityNumber': 11, 'name': 'Kaikai'}\n",
      "{'priorityNumber': 10, 'name': 'Koikoi'}\n"
     ]
    }
   ],
   "source": [
    "q.enqueue({\n",
    "    'priorityNumber': 11,\n",
    "    'name':'Kaikai'\n",
    "})\n",
    "\n",
    "q.get()\n"
   ]
  },
  {
   "cell_type": "code",
   "execution_count": 59,
   "metadata": {},
   "outputs": [
    {
     "name": "stdout",
     "output_type": "stream",
     "text": [
      "{'priorityNumber': 12, 'name': 'Kongkong'}\n",
      "{'priorityNumber': 11, 'name': 'Kaikai'}\n",
      "{'priorityNumber': 10, 'name': 'Koikoi'}\n"
     ]
    }
   ],
   "source": [
    "\n",
    "q.enqueue({\n",
    "    'priorityNumber': 12,\n",
    "    'name':'Kongkong'\n",
    "})\n",
    "\n",
    "q.get()"
   ]
  },
  {
   "cell_type": "code",
   "execution_count": 60,
   "metadata": {},
   "outputs": [
    {
     "data": {
      "text/plain": [
       "{'priorityNumber': 12, 'name': 'Kongkong'}"
      ]
     },
     "execution_count": 60,
     "metadata": {},
     "output_type": "execute_result"
    }
   ],
   "source": [
    "q.rear()"
   ]
  },
  {
   "cell_type": "code",
   "execution_count": 61,
   "metadata": {},
   "outputs": [
    {
     "data": {
      "text/plain": [
       "{'priorityNumber': 10, 'name': 'Koikoi'}"
      ]
     },
     "execution_count": 61,
     "metadata": {},
     "output_type": "execute_result"
    }
   ],
   "source": [
    "q.front()"
   ]
  },
  {
   "cell_type": "code",
   "execution_count": 62,
   "metadata": {},
   "outputs": [
    {
     "data": {
      "text/plain": [
       "{'priorityNumber': 10, 'name': 'Koikoi'}"
      ]
     },
     "execution_count": 62,
     "metadata": {},
     "output_type": "execute_result"
    }
   ],
   "source": [
    "q.dequeue()"
   ]
  },
  {
   "cell_type": "code",
   "execution_count": 63,
   "metadata": {},
   "outputs": [
    {
     "name": "stdout",
     "output_type": "stream",
     "text": [
      "{'priorityNumber': 12, 'name': 'Kongkong'}\n",
      "{'priorityNumber': 11, 'name': 'Kaikai'}\n"
     ]
    }
   ],
   "source": [
    "q.get()"
   ]
  },
  {
   "cell_type": "code",
   "execution_count": 64,
   "metadata": {},
   "outputs": [
    {
     "data": {
      "text/plain": [
       "2"
      ]
     },
     "execution_count": 64,
     "metadata": {},
     "output_type": "execute_result"
    }
   ],
   "source": [
    "q.size()"
   ]
  }
 ],
 "metadata": {
  "kernelspec": {
   "display_name": "Python 3",
   "language": "python",
   "name": "python3"
  },
  "language_info": {
   "codemirror_mode": {
    "name": "ipython",
    "version": 3
   },
   "file_extension": ".py",
   "mimetype": "text/x-python",
   "name": "python",
   "nbconvert_exporter": "python",
   "pygments_lexer": "ipython3",
   "version": "3.10.7"
  }
 },
 "nbformat": 4,
 "nbformat_minor": 2
}
